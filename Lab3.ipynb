{
 "cells": [
  {
   "cell_type": "markdown",
   "metadata": {},
   "source": [
    "# Group Lab 3 – Comparative Urban Change in US States\n",
    "\n",
    "Authors: Andrew Baker, Jamie Marken, James Lyou, Alberto Melendez, Emmanual Robi"
   ]
  },
  {
   "cell_type": "markdown",
   "metadata": {},
   "source": [
    "## Part 2"
   ]
  },
  {
   "cell_type": "code",
   "execution_count": 1,
   "metadata": {},
   "outputs": [],
   "source": [
    "#Import pandas and geopandas\n",
    "import pandas as pd\n",
    "import geopandas"
   ]
  },
  {
   "cell_type": "code",
   "execution_count": 2,
   "metadata": {},
   "outputs": [],
   "source": [
    "#Read the SAEP data\n",
    "fp = \"./saep_bg10/saep_bg10.shp\"\n",
    "data = geopandas.read_file(fp)"
   ]
  },
  {
   "cell_type": "code",
   "execution_count": 3,
   "metadata": {},
   "outputs": [],
   "source": [
    "#Read the FIPS dbf data\n",
    "fp2 = \"./WashingtonFIPS.dbf\"\n",
    "dbf = geopandas.read_file(fp2)"
   ]
  },
  {
   "cell_type": "code",
   "execution_count": null,
   "metadata": {},
   "outputs": [],
   "source": [
    "#Divides SAEP data into counties and write the individual divisions to JSON files\n",
    "county_counter = 0\n",
    "for row in dbf.FIPSCounty:\n",
    "    is_in_county = data['COUNTYFP10'] == row\n",
    "    subset = data[is_in_county]\n",
    "    subset.to_file(dbf.CountyName[county_counter] + '.json', driver = 'GeoJSON')\n",
    "    county_counter += 1"
   ]
  },
  {
   "cell_type": "code",
   "execution_count": null,
   "metadata": {},
   "outputs": [],
   "source": [
    "#Creates a new dataframe with total populations of each county in 2017\n",
    "#and prints the top 10 most populous counties\n",
    "county_pop = pd.DataFrame()\n",
    "county_pop['FIPSCounty'] = dbf.FIPSCounty\n",
    "county_pop['CountyName'] = dbf.CountyName\n",
    "county_pop['Population'] = 0\n",
    "counter = 0\n",
    "    \n",
    "for row in county_pop.FIPSCounty:\n",
    "    is_in_county = data['COUNTYFP10'] == row\n",
    "    subset = data[is_in_county]\n",
    "    county_pop.Population[counter] = sum(subset['POP2017'] + county_pop.Population[counter])\n",
    "    counter += 1\n",
    "\n",
    "county_pop = county_pop.sort_values('Population', ascending=False)\n",
    "print(county_pop.head(n=10))"
   ]
  },
  {
   "cell_type": "markdown",
   "metadata": {},
   "source": [
    "## Part 3"
   ]
  },
  {
   "cell_type": "code",
   "execution_count": null,
   "metadata": {},
   "outputs": [],
   "source": [
    "#imports necessary packages\n",
    "import geopandas as gpd\n",
    "import numpy as np"
   ]
  },
  {
   "cell_type": "code",
   "execution_count": null,
   "metadata": {},
   "outputs": [],
   "source": [
    "fp = \"./saep_bg10/saep_bg10.shp\"\n",
    "data = gpd.read_file(fp)"
   ]
  },
  {
   "cell_type": "markdown",
   "metadata": {},
   "source": [
    "#### Part 3.1"
   ]
  },
  {
   "cell_type": "code",
   "execution_count": null,
   "metadata": {},
   "outputs": [],
   "source": [
    "#calculates density to determine if a group is urban or non-urban (1000 people in 1 sq mile is urban)\n",
    "data[\"urban2018\"] = np.where((data['POP2018'] / data['ALANDMI'])>= 1000, 'urban', 'non-urban')"
   ]
  },
  {
   "cell_type": "markdown",
   "metadata": {},
   "source": [
    "#### Part 3.2"
   ]
  },
  {
   "cell_type": "code",
   "execution_count": null,
   "metadata": {},
   "outputs": [],
   "source": [
    "urban_counter = 0\n",
    "for row in data['urban2018']:\n",
    "    if row == 'urban':\n",
    "        urban_counter += 1"
   ]
  },
  {
   "cell_type": "code",
   "execution_count": null,
   "metadata": {},
   "outputs": [],
   "source": [
    "#calculates percentage of groupds that are urban in washington\n",
    "percent_State_Urban = (float(urban_counter)/4783) * 100\n",
    "print percent_State_Urban"
   ]
  },
  {
   "cell_type": "markdown",
   "metadata": {},
   "source": [
    "#### Part 3.3"
   ]
  },
  {
   "cell_type": "code",
   "execution_count": null,
   "metadata": {},
   "outputs": [],
   "source": [
    "urban_land = data\n",
    "\n",
    "urban_land = urban_land.drop(urban_land[urban_land[\"urban2018\"] != \"urban\"].index)"
   ]
  },
  {
   "cell_type": "code",
   "execution_count": null,
   "metadata": {},
   "outputs": [],
   "source": [
    "land_sum = data['ALANDMI'].sum()\n",
    "urban_land_sum = urban_land['ALANDMI'].sum()"
   ]
  },
  {
   "cell_type": "code",
   "execution_count": null,
   "metadata": {},
   "outputs": [],
   "source": [
    "percent_urbanized = (urban_land_sum / land_sum) * 100\n",
    "print percent_urbanized"
   ]
  },
  {
   "cell_type": "markdown",
   "metadata": {},
   "source": [
    "#### Part 3.4"
   ]
  },
  {
   "cell_type": "code",
   "execution_count": null,
   "metadata": {},
   "outputs": [],
   "source": [
    "#calculates density of population\n",
    "data[\"urban2008\"] = np.where((data[\"POP2008\"]/data[\"ALANDMI\"]) >= 1000, 'urban', 'non-urban')"
   ]
  },
  {
   "cell_type": "code",
   "execution_count": null,
   "metadata": {},
   "outputs": [],
   "source": [
    "#initializes a column and then compares columns to determine if there is a change\n",
    "data['ClassChange'] = ''\n",
    "data[\"ClassChange\"] = np.where((data['urban2008'] == data['urban2018']), 'no change in category', data['ClassChange'])"
   ]
  },
  {
   "cell_type": "code",
   "execution_count": null,
   "metadata": {},
   "outputs": [],
   "source": [
    "#keywords are used similarly like the code above, determines change but had to be done slightly differently\n",
    "keyword1 = 'urban'\n",
    "keyword2 = 'non-urban'\n",
    "\n",
    "data[\"ClassChange\"] = np.where((data['urban2008'] == keyword2) & (data['urban2018'] == keyword1), 'urbanized', data['ClassChange'])\n",
    "data[\"ClassChange\"] = np.where((data['urban2008'] == keyword1) & (data['urban2018'] == keyword2), 'de-urbanized', data['ClassChange'])"
   ]
  },
  {
   "cell_type": "code",
   "execution_count": null,
   "metadata": {},
   "outputs": [],
   "source": [
    "data"
   ]
  },
  {
   "cell_type": "markdown",
   "metadata": {},
   "source": [
    "#### Part 3.5"
   ]
  },
  {
   "cell_type": "code",
   "execution_count": null,
   "metadata": {},
   "outputs": [],
   "source": [
    "print data['ClassChange'].value_counts()"
   ]
  },
  {
   "cell_type": "markdown",
   "metadata": {},
   "source": [
    "#### Part 3.6"
   ]
  },
  {
   "cell_type": "code",
   "execution_count": null,
   "metadata": {},
   "outputs": [],
   "source": [
    "%matplotlib notebook\n",
    "\n",
    "#removes non-populated blocks (mostly ones that are water)\n",
    "mapdata = data.drop(data[data['POP2018'] == 0].index)\n",
    "mapdata.plot(column = \"ClassChange\",figsize= (10,8), legend = True)"
   ]
  },
  {
   "cell_type": "code",
   "execution_count": null,
   "metadata": {
    "scrolled": true
   },
   "outputs": [],
   "source": [
    "%matplotlib notebook\n",
    "mapdata.plot(column = \"urban2018\",figsize= (10,8), legend = True)"
   ]
  },
  {
   "cell_type": "code",
   "execution_count": null,
   "metadata": {},
   "outputs": [],
   "source": []
  }
 ],
 "metadata": {
  "kernelspec": {
   "display_name": "Python 2",
   "language": "python",
   "name": "python2"
  },
  "language_info": {
   "codemirror_mode": {
    "name": "ipython",
    "version": 2
   },
   "file_extension": ".py",
   "mimetype": "text/x-python",
   "name": "python",
   "nbconvert_exporter": "python",
   "pygments_lexer": "ipython2",
   "version": "2.7.15"
  }
 },
 "nbformat": 4,
 "nbformat_minor": 2
}
