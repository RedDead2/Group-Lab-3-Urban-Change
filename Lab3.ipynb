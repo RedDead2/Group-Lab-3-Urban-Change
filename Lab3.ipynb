{
 "cells": [
  {
   "cell_type": "markdown",
   "metadata": {},
   "source": [
    "# Group Lab 3 – Comparative Urban Change in US States\n",
    "\n",
    "Authors: Andrew Baker, Jamie Marken, James Lyou, Alberto Melendez, Emmanual Robi"
   ]
  },
  {
   "cell_type": "markdown",
   "metadata": {},
   "source": [
    "#### Part 1"
   ]
  },
  {
   "cell_type": "markdown",
   "metadata": {},
   "source": [
    "#### Part 2"
   ]
  },
  {
   "cell_type": "code",
   "execution_count": 1,
   "metadata": {},
   "outputs": [],
   "source": [
    "#Import pandas and geopandas\n",
    "import pandas as pd\n",
    "import geopandas"
   ]
  },
  {
   "cell_type": "code",
   "execution_count": 100,
   "metadata": {},
   "outputs": [],
   "source": [
    "#Read the SAEP data\n",
    "fp = \"saep_bg10/saep_bg10.shp\"\n",
    "data = geopandas.read_file(fp)"
   ]
  },
  {
   "cell_type": "code",
   "execution_count": 102,
   "metadata": {
    "scrolled": false
   },
   "outputs": [],
   "source": [
    "#Read the FIPS dbf data\n",
    "fp2 = \"WashingtonFIPS.dbf\"\n",
    "dbf = geopandas.read_file(fp2)"
   ]
  },
  {
   "cell_type": "code",
   "execution_count": 104,
   "metadata": {
    "scrolled": true
   },
   "outputs": [],
   "source": [
    "#Divides SAEP data into counties and write the individual divisions to JSON files\n",
    "county_counter = 0\n",
    "for row in dbf.FIPSCounty:\n",
    "    is_in_county = data['COUNTYFP10'] == row\n",
    "    subset = data[is_in_county]\n",
    "    subset.to_file(dbf.CountyName[county_counter] + '.json', driver = 'GeoJSON')\n",
    "    county_counter += 1"
   ]
  },
  {
   "cell_type": "code",
   "execution_count": 106,
   "metadata": {
    "scrolled": false
   },
   "outputs": [
    {
     "name": "stderr",
     "output_type": "stream",
     "text": [
      "C:\\Users\\James\\Anaconda2\\envs\\GEOG458-Tut\\lib\\site-packages\\ipykernel_launcher.py:12: SettingWithCopyWarning: \n",
      "A value is trying to be set on a copy of a slice from a DataFrame\n",
      "\n",
      "See the caveats in the documentation: http://pandas.pydata.org/pandas-docs/stable/indexing.html#indexing-view-versus-copy\n",
      "  if sys.path[0] == '':\n"
     ]
    },
    {
     "name": "stdout",
     "output_type": "stream",
     "text": [
      "   FIPSCounty CountyName  Population\n",
      "16        033       King     2153700\n",
      "26        053     Pierce      859399\n",
      "30        061  Snohomish      789400\n",
      "31        063    Spokane      499800\n",
      "5         011      Clark      470999\n",
      "33        067   Thurston      276900\n",
      "17        035     Kitsap      264299\n",
      "38        077     Yakima      253000\n",
      "36        073    Whatcom      216299\n",
      "2         005     Benton      193499\n"
     ]
    }
   ],
   "source": [
    "#Creates a new dataframe with total populations of each county in 2017\n",
    "#and prints the top 10 most populous counties\n",
    "county_pop = pd.DataFrame()\n",
    "county_pop['FIPSCounty'] = dbf.FIPSCounty\n",
    "county_pop['CountyName'] = dbf.CountyName\n",
    "county_pop['Population'] = 0\n",
    "counter = 0\n",
    "    \n",
    "for row in county_pop.FIPSCounty:\n",
    "    is_in_county = data['COUNTYFP10'] == row\n",
    "    subset = data[is_in_county]\n",
    "    county_pop.Population[counter] = sum(subset['POP2017'] + county_pop.Population[counter])\n",
    "    counter += 1\n",
    "\n",
    "county_pop = county_pop.sort_values('Population', ascending=False)\n",
    "print(county_pop.head(n=10))"
   ]
  },
  {
   "cell_type": "code",
   "execution_count": null,
   "metadata": {},
   "outputs": [],
   "source": []
  },
  {
   "cell_type": "code",
   "execution_count": null,
   "metadata": {},
   "outputs": [],
   "source": []
  }
 ],
 "metadata": {
  "kernelspec": {
   "display_name": "Python 2",
   "language": "python",
   "name": "python2"
  },
  "language_info": {
   "codemirror_mode": {
    "name": "ipython",
    "version": 2
   },
   "file_extension": ".py",
   "mimetype": "text/x-python",
   "name": "python",
   "nbconvert_exporter": "python",
   "pygments_lexer": "ipython2",
   "version": "2.7.15"
  }
 },
 "nbformat": 4,
 "nbformat_minor": 2
}
