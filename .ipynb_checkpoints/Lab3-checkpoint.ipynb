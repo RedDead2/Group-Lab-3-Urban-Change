{
 "cells": [
  {
   "cell_type": "code",
   "execution_count": null,
   "metadata": {},
   "outputs": [],
   "source": [
    "# Group Lab 3 – Comparative Urban Change in US States\n",
    "\n",
    "Authors: Andrew Baker, Jamie Marken, James Lyou, Alberto Melendez, Emmanual Robi"
   ]
  },
  {
   "cell_type": "markdown",
   "metadata": {},
   "source": [
    "#### Part 1"
   ]
  },
  {
   "cell_type": "markdown",
   "metadata": {},
   "source": [
    "The United States splits \"urban area\" into two categories. \n",
    "Urbanized areas: indicates an area of 50,000 or more people. \n",
    "Urban clusters: indicates areas of at least 2,500 people and less than 50,000 people.\n",
    "\n",
    "The United States defines census block groups as having a population density of at least 1,000 people per square mile.\n",
    "\n",
    "The definitions of urban area below are relative to how Japan and New Zealand defines it.\n",
    "\n",
    "In Japan, urbanized areas are defined as bordering areas of densely populated districts. They number districts as units with a density requirement of 4,000 people per square km, or 10,000/ square mile.\n",
    "\n",
    "New Zealand has three classes of urban areas.\n",
    "main urban areas: the 17 urban areas which have a population of 30,000 more.\n",
    "secondary urban areas: the 14 urban areas that have a population of 10,000 or more but less than 30,000.\n",
    "minor urban areas: have a population of at least 1,000 but less than 10,000."
   ]
  },
  {
   "cell_type": "code",
   "execution_count": null,
   "metadata": {},
   "outputs": [],
   "source": []
  }
 ],
 "metadata": {
  "kernelspec": {
   "display_name": "Python 2",
   "language": "python",
   "name": "python2"
  },
  "language_info": {
   "codemirror_mode": {
    "name": "ipython",
    "version": 2
   },
   "file_extension": ".py",
   "mimetype": "text/x-python",
   "name": "python",
   "nbconvert_exporter": "python",
   "pygments_lexer": "ipython2",
   "version": "2.7.15"
  }
 },
 "nbformat": 4,
 "nbformat_minor": 2
}
