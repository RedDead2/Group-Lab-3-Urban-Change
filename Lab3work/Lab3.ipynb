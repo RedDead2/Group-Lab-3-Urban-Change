{
 "cells": [
  {
   "cell_type": "markdown",
   "metadata": {},
   "source": [
    "# Group Lab 3 – Comparative Urban Change in US States\n",
    "\n",
    "Authors: Andrew Baker, Jamie Marken, James Lyou, Alberto Melendez, Emmanual Robi"
   ]
  },
  {
   "cell_type": "markdown",
   "metadata": {},
   "source": [
    "## Part 1"
   ]
  },
  {
   "cell_type": "markdown",
   "metadata": {},
   "source": [
    "Executive Summary:\n",
    "\n",
    "The main objective of Lab 3 was to calculate and visualize urban change in WA State from 2008 to 2018. Definitions of \"urban\" and \"non-urban\" were used to determine urban change. First, to decide what makes a block group urban or non-urban, the density of census block groups in WA State were calculated. To determine the density, the US definition of urban was used which states that 1,000 people in 1 square mile is urban. This calculation proved that roughly 71% of census block groups in WA State are defined as urban in 2018. Then, the sum of urban land was divided by the sum of land in WA State to give the result of 2% of urbanized land in WA State in 2018. Next, the density of census block groups in 2008 were compared to 2018 block groups to determine a change in urban populations. This comparison indicates that census block groups in WA State are becoming more urban, as 65 block groups became urban from 2008 to 2018 while only 2 block groups became de-urbanized. Finally, two interactive maps were created. The first map visualizes which census block groups in WA State are de-urbanized, urbanized, or that experienced no change in urbanization in 2018. The second map visualizes census block groups that are classified as urban or non-urban in 2018.\n",
    " \n",
    "For part 4, urbanization trends in Oregon and WA State were compared because they are in the same region and have similar land mass, although WA State has about 3 million more people. The methodology for Oregon was the same for WA State, but instead of using census block groups for WA State, counties were used for Oregon. The main result for urbanization classification in Oregon was that Multnomah County is the only county in Oregon that is classified as urban from 2012 to 2018. When the change in urban populations was calculated, the result showed that 0 counties experienced urban change from 2012 to 2018. Therefore, there were no changes in urban trends in Oregon from 2012 to 2018. The differences in urban trends in comparison to WA State are that 65 block groups became urban from 2008 to 2018, while 0 counties became urban in Oregon from 2012 to 2018. Another difference is that only one county (Multnomah) in Oregon is classified as urban, while 65 census block groups in WA State are classified as urban. \n",
    "\n",
    "\n",
    "Definitions of urban relative to the United States:\n",
    "\n",
    "The United States splits \"urban area\" into two categories. \n",
    "Urbanized areas: indicates an area of 50,000 or more people. \n",
    "Urban clusters: indicates areas of at least 2,500 people and less than 50,000 people.\n",
    "\n",
    "The United States defines census block groups as having a population density of at least 1,000 people per square mile.\n",
    "\n",
    "\n",
    "Definitions of urban relative to Japan and New Zealand:\n",
    "\n",
    "In Japan, urbanized areas are defined as bordering areas of densely populated districts. They number districts as units with a density requirement of 4,000 people per square km, or 10,000/ square mile.\n",
    "\n",
    "New Zealand has three classes of urban areas.\n",
    "main urban areas: the 17 urban areas which have a population of 30,000 more.\n",
    "secondary urban areas: the 14 urban areas that have a population of 10,000 or more but less than 30,000.\n",
    "minor urban areas: have a population of at least 1,000 but less than 10,000.\n",
    "\n",
    "<a href=\"https://en.wikipedia.org/wiki/Urban_area\">Link to Urban Area Reference</a>\n",
    "\n",
    "Issues with US Census Data:\n",
    "\n",
    "The data used below are Washington State census block data from Washington State’s Office of Financial Management. Potential issues with this data are how the US Census defines urban, non-urban, and suburban, which can be unclear. \n",
    "\n",
    "For example, the definitions of suburban are non-specific. The common definition of suburban is a mixed-use or residential area that is a part of a city/urban area or as a separate residential area within commuting distance to a city/urban area. Definitions of non-urban areas such as this can be messy, as it does not define a suburban area with a numerical density requirement.\n",
    "\n",
    "<a href=\"https://en.wikipedia.org/wiki/Suburb\">Link to Suburban Definition Reference</a>\n",
    "\n",
    "There are issues with using US Census Data specifically with demographics. Regarding demographic analysis, there are limitations in the feasibility of producing estimates only at the national level, not at lower geographic levels. There are also issues with only recording broad racial categories (Black or non-Black). In addition, there is uncertainty in estimating total international migration to the United States, particularly emigration, temporary migration, and unauthorized migration.\n",
    "\n",
    "<a href=\"https://www.census.gov/history/pdf/2010-background-crs.pdf\">Link to Census Data Demographic Issues Reference</a>"
   ]
  },
  {
   "cell_type": "markdown",
   "metadata": {},
   "source": [
    "## Part 2"
   ]
  },
  {
   "cell_type": "code",
   "execution_count": 2,
   "metadata": {},
   "outputs": [],
   "source": [
    "#Import pandas and geopandas\n",
    "import pandas as pd\n",
    "import geopandas"
   ]
  },
  {
   "cell_type": "code",
   "execution_count": 3,
   "metadata": {},
   "outputs": [],
   "source": [
    "#Read the SAEP data\n",
    "fp = \"./saep_bg10/saep_bg10.shp\"\n",
    "data = geopandas.read_file(fp)"
   ]
  },
  {
   "cell_type": "code",
   "execution_count": 4,
   "metadata": {},
   "outputs": [],
   "source": [
    "#Read the FIPS dbf data\n",
    "fp2 = \"./WashingtonFIPS.dbf\"\n",
    "dbf = geopandas.read_file(fp2)"
   ]
  },
  {
   "cell_type": "code",
   "execution_count": null,
   "metadata": {},
   "outputs": [],
   "source": [
    "#Divides SAEP data into counties and write the individual divisions to JSON files\n",
    "county_counter = 0\n",
    "for row in dbf.FIPSCounty:\n",
    "    is_in_county = data['COUNTYFP10'] == row\n",
    "    subset = data[is_in_county]\n",
    "    subset.to_file(dbf.CountyName[county_counter] + '.json', driver = 'GeoJSON')\n",
    "    county_counter += 1"
   ]
  },
  {
   "cell_type": "code",
   "execution_count": null,
   "metadata": {},
   "outputs": [],
   "source": [
    "#Creates a new dataframe with total populations of each county in 2017\n",
    "#and prints the top 10 most populous counties\n",
    "county_pop = pd.DataFrame()\n",
    "county_pop['FIPSCounty'] = dbf.FIPSCounty\n",
    "county_pop['CountyName'] = dbf.CountyName\n",
    "county_pop['Population'] = 0\n",
    "counter = 0\n",
    "    \n",
    "for row in county_pop.FIPSCounty:\n",
    "    is_in_county = data['COUNTYFP10'] == row\n",
    "    subset = data[is_in_county]\n",
    "    county_pop.Population[counter] = sum(subset['POP2017'] + county_pop.Population[counter])\n",
    "    counter += 1\n",
    "\n",
    "county_pop = county_pop.sort_values('Population', ascending=False)\n",
    "print(county_pop.head(n=10))"
   ]
  },
  {
   "cell_type": "markdown",
   "metadata": {},
   "source": [
    "## Part 3"
   ]
  },
  {
   "cell_type": "code",
   "execution_count": null,
   "metadata": {},
   "outputs": [],
   "source": [
    "#imports necessary packages\n",
    "import geopandas as gpd\n",
    "import numpy as np"
   ]
  },
  {
   "cell_type": "code",
   "execution_count": null,
   "metadata": {},
   "outputs": [],
   "source": [
    "fp = \"./saep_bg10/saep_bg10.shp\"\n",
    "data = gpd.read_file(fp)"
   ]
  },
  {
   "cell_type": "markdown",
   "metadata": {},
   "source": [
    "#### Part 3.1"
   ]
  },
  {
   "cell_type": "code",
   "execution_count": null,
   "metadata": {},
   "outputs": [],
   "source": [
    "#calculates density to determine if a group is urban or non-urban (1000 people in 1 sq mile is urban)\n",
    "data[\"urban2018\"] = np.where((data['POP2018'] / data['ALANDMI'])>= 1000, 'urban', 'non-urban')"
   ]
  },
  {
   "cell_type": "markdown",
   "metadata": {},
   "source": [
    "#### Part 3.2"
   ]
  },
  {
   "cell_type": "code",
   "execution_count": null,
   "metadata": {},
   "outputs": [],
   "source": [
    "urban_counter = 0\n",
    "for row in data['urban2018']:\n",
    "    if row == 'urban':\n",
    "        urban_counter += 1"
   ]
  },
  {
   "cell_type": "code",
   "execution_count": null,
   "metadata": {},
   "outputs": [],
   "source": [
    "#calculates percentage of groupds that are urban in washington\n",
    "percent_State_Urban = (float(urban_counter)/4783) * 100\n",
    "print percent_State_Urban"
   ]
  },
  {
   "cell_type": "markdown",
   "metadata": {},
   "source": [
    "#### Part 3.3"
   ]
  },
  {
   "cell_type": "code",
   "execution_count": null,
   "metadata": {},
   "outputs": [],
   "source": [
    "urban_land = data\n",
    "\n",
    "urban_land = urban_land.drop(urban_land[urban_land[\"urban2018\"] != \"urban\"].index)"
   ]
  },
  {
   "cell_type": "code",
   "execution_count": null,
   "metadata": {},
   "outputs": [],
   "source": [
    "land_sum = data['ALANDMI'].sum()\n",
    "urban_land_sum = urban_land['ALANDMI'].sum()"
   ]
  },
  {
   "cell_type": "code",
   "execution_count": null,
   "metadata": {},
   "outputs": [],
   "source": [
    "percent_urbanized = (urban_land_sum / land_sum) * 100\n",
    "print percent_urbanized"
   ]
  },
  {
   "cell_type": "markdown",
   "metadata": {},
   "source": [
    "#### Part 3.4"
   ]
  },
  {
   "cell_type": "code",
   "execution_count": null,
   "metadata": {},
   "outputs": [],
   "source": [
    "#calculates density of population\n",
    "data[\"urban2008\"] = np.where((data[\"POP2008\"]/data[\"ALANDMI\"]) >= 1000, 'urban', 'non-urban')"
   ]
  },
  {
   "cell_type": "code",
   "execution_count": null,
   "metadata": {},
   "outputs": [],
   "source": [
    "#initializes a column and then compares columns to determine if there is a change\n",
    "data['ClassChange'] = ''\n",
    "data[\"ClassChange\"] = np.where((data['urban2008'] == data['urban2018']), 'no change in category', data['ClassChange'])"
   ]
  },
  {
   "cell_type": "code",
   "execution_count": null,
   "metadata": {},
   "outputs": [],
   "source": [
    "#keywords are used similarly like the code above, determines change but had to be done slightly differently\n",
    "keyword1 = 'urban'\n",
    "keyword2 = 'non-urban'\n",
    "\n",
    "data[\"ClassChange\"] = np.where((data['urban2008'] == keyword2) & (data['urban2018'] == keyword1), 'urbanized', data['ClassChange'])\n",
    "data[\"ClassChange\"] = np.where((data['urban2008'] == keyword1) & (data['urban2018'] == keyword2), 'de-urbanized', data['ClassChange'])"
   ]
  },
  {
   "cell_type": "code",
   "execution_count": null,
   "metadata": {},
   "outputs": [],
   "source": [
    "data"
   ]
  },
  {
   "cell_type": "markdown",
   "metadata": {},
   "source": [
    "#### Part 3.5"
   ]
  },
  {
   "cell_type": "code",
   "execution_count": null,
   "metadata": {},
   "outputs": [],
   "source": [
    "print data['ClassChange'].value_counts()"
   ]
  },
  {
   "cell_type": "markdown",
   "metadata": {},
   "source": [
    "#### Part 3.6"
   ]
  },
  {
   "cell_type": "code",
   "execution_count": null,
   "metadata": {},
   "outputs": [],
   "source": [
    "%matplotlib notebook\n",
    "\n",
    "#removes non-populated blocks (mostly ones that are water)\n",
    "mapdata = data.drop(data[data['POP2018'] == 0].index)\n",
    "mapdata.plot(column = \"ClassChange\",figsize= (10,8), legend = True)"
   ]
  },
  {
   "cell_type": "code",
   "execution_count": null,
   "metadata": {
    "scrolled": true
   },
   "outputs": [],
   "source": [
    "%matplotlib notebook\n",
    "mapdata.plot(column = \"urban2018\",figsize= (10,8), legend = True)"
   ]
  },
  {
   "cell_type": "markdown",
   "metadata": {},
   "source": [
    "## Part 4"
   ]
  },
  {
   "cell_type": "code",
   "execution_count": null,
   "metadata": {},
   "outputs": [],
   "source": [
    "#imports necessary packages\n",
    "import geopandas as gpd\n",
    "import numpy as np\n",
    "import csv\n",
    "import pandas as pd"
   ]
  },
  {
   "cell_type": "code",
   "execution_count": null,
   "metadata": {},
   "outputs": [],
   "source": [
    "#imports data\n",
    "shp = \"./Part4/cb_2017_41_bg_500k.shp\"\n",
    "pop = pd.read_csv(\"./Part4/Population.csv\")\n",
    "data2 = gpd.read_file(shp)\n"
   ]
  },
  {
   "cell_type": "code",
   "execution_count": null,
   "metadata": {},
   "outputs": [],
   "source": [
    "#creates COUNTYFP AND AREA Column\n",
    "pop['COUNTYFP'] = [\"001\", \"003\", \"005\", \"007\", \"009\", \"011\", \"013\", \"015\", \"017\", \"019\", \"021\", \"023\", \"025\", \"027\", \"029\", \"031\", \"033\", \"035\", \"037\", \"039\", \"041\", \"043\", \"045\", \"047\", \"049\", \"051\", \"053\", \"055\", \"057\", \"059\", \"061\", \"063\", \"065\", \"067\", \"069\", \"071\"]\n",
    "pop ['Area'] = 0"
   ]
  },
  {
   "cell_type": "code",
   "execution_count": null,
   "metadata": {},
   "outputs": [],
   "source": [
    "counter = 0\n",
    "for row in pop.COUNTYFP: \n",
    "    A = data['COUNTYFP'] == row\n",
    "    subset = data[A]\n",
    "    total_area = sum(subset['ALAND'])\n",
    "    pop.Area[counter] = total_area + pop.Area[counter]\n",
    "    counter += 1"
   ]
  },
  {
   "cell_type": "code",
   "execution_count": null,
   "metadata": {},
   "outputs": [],
   "source": [
    "#converts to INT\n",
    "pop['Population2012'] = pop['Population2012'].astype(int)\n",
    "pop['Population2018'] = pop['Population2018'].astype(int)"
   ]
  },
  {
   "cell_type": "markdown",
   "metadata": {},
   "source": [
    "### Part 4.1"
   ]
  },
  {
   "cell_type": "code",
   "execution_count": null,
   "metadata": {},
   "outputs": [],
   "source": [
    "#calculates density of population\n",
    "pop[\"Area\"] = pop[\"Area\"] * .0000003861"
   ]
  },
  {
   "cell_type": "code",
   "execution_count": null,
   "metadata": {},
   "outputs": [],
   "source": [
    "pop[\"urban2018\"] = np.where((pop[\"Population2018\"] / (pop[\"Area\"])) >= 1000, 'urban', 'non-urban')\n",
    "pop"
   ]
  },
  {
   "cell_type": "markdown",
   "metadata": {},
   "source": [
    "### Part 4.2"
   ]
  },
  {
   "cell_type": "code",
   "execution_count": null,
   "metadata": {},
   "outputs": [],
   "source": [
    "urban_count = 0\n",
    "for row in pop['urban2018']:\n",
    "    if row == 'urban':\n",
    "        urban_count += 1"
   ]
  },
  {
   "cell_type": "code",
   "execution_count": null,
   "metadata": {},
   "outputs": [],
   "source": [
    "#calculates percentage of groupds that are urban in washington\n",
    "percent_State_Urban2 = (float(urban_count)/36) * 100\n",
    "print percent_State_Urban2"
   ]
  },
  {
   "cell_type": "markdown",
   "metadata": {},
   "source": [
    "### Part 4.3"
   ]
  },
  {
   "cell_type": "code",
   "execution_count": null,
   "metadata": {},
   "outputs": [],
   "source": [
    "urban_land2 = pop\n",
    "\n",
    "urban_land2 = urban_land2.drop(urban_land2[urban_land2[\"urban2018\"] != \"urban\"].index)"
   ]
  },
  {
   "cell_type": "code",
   "execution_count": null,
   "metadata": {},
   "outputs": [],
   "source": [
    "land_sum2 = pop['Area'].sum()\n",
    "\n",
    "urban_land_sum2 = urban_land2['Area'].sum()"
   ]
  },
  {
   "cell_type": "code",
   "execution_count": null,
   "metadata": {},
   "outputs": [],
   "source": [
    "percent_urbanized2 = (urban_land_sum2 / land_sum2) * 100\n",
    "\n",
    "print percent_urbanized2"
   ]
  },
  {
   "cell_type": "markdown",
   "metadata": {},
   "source": [
    "### Part 4.4"
   ]
  },
  {
   "cell_type": "code",
   "execution_count": null,
   "metadata": {},
   "outputs": [],
   "source": [
    "#calculates density of population\n",
    "pop[\"urban2012\"] = np.where((pop[\"Population2012\"]/pop[\"Area\"]) >= 1000, 'urban', 'non-urban')"
   ]
  },
  {
   "cell_type": "code",
   "execution_count": null,
   "metadata": {},
   "outputs": [],
   "source": [
    "#initializes a column and then compares columns to determine if there is a change\n",
    "pop['ClassChange'] = ''\n",
    "pop[\"ClassChange\"] = np.where((pop['urban2012'] == pop['urban2018']), 'no change in category', pop['ClassChange'])"
   ]
  },
  {
   "cell_type": "code",
   "execution_count": null,
   "metadata": {},
   "outputs": [],
   "source": [
    "#keywords are used similarly like the code above, determines change but had to be done slightly differently\n",
    "keyword1 = 'urban'\n",
    "keyword2 = 'non-urban'\n",
    "\n",
    "pop[\"ClassChange\"] = np.where((pop['urban2012'] == keyword2) & (pop['urban2018'] == keyword1), 'urbanized', pop['ClassChange'])\n",
    "pop[\"ClassChange\"] = np.where((pop['urban2012'] == keyword1) & (pop['urban2018'] == keyword2), 'de-urbanized', pop['ClassChange'])"
   ]
  },
  {
   "cell_type": "markdown",
   "metadata": {},
   "source": [
    "### Part 4.6"
   ]
  },
  {
   "cell_type": "code",
   "execution_count": null,
   "metadata": {},
   "outputs": [],
   "source": [
    "#Merge data to shape file\n",
    "data2 = pd.merge(data2, pop)\n",
    "data2"
   ]
  },
  {
   "cell_type": "code",
   "execution_count": null,
   "metadata": {},
   "outputs": [],
   "source": [
    "#Map 1 of change in category\n",
    "%matplotlib notebook\n",
    "\n",
    "#removes non-populated blocks (mostly ones that are water)\n",
    "mapdata = data2.drop(data2[data2['Population2018'] == 0].index)\n",
    "mapdata.plot(column = \"ClassChange\",figsize= (10,8), legend = True)"
   ]
  },
  {
   "cell_type": "code",
   "execution_count": null,
   "metadata": {},
   "outputs": [],
   "source": [
    "#Map 2 of urban and non-urban\n",
    "%matplotlib notebook\n",
    "mapdata.plot(column = \"urban2018\",figsize= (10,8), legend = True)"
   ]
  }
 ],
 "metadata": {
  "kernelspec": {
   "display_name": "Python 2",
   "language": "python",
   "name": "python2"
  },
  "language_info": {
   "codemirror_mode": {
    "name": "ipython",
    "version": 2
   },
   "file_extension": ".py",
   "mimetype": "text/x-python",
   "name": "python",
   "nbconvert_exporter": "python",
   "pygments_lexer": "ipython2",
   "version": "2.7.15"
  }
 },
 "nbformat": 4,
 "nbformat_minor": 2
}
